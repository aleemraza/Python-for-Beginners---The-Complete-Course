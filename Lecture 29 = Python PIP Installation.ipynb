{
 "cells": [
  {
   "cell_type": "code",
   "execution_count": null,
   "metadata": {},
   "outputs": [],
   "source": [
    "Python PIP"
   ]
  },
  {
   "cell_type": "markdown",
   "metadata": {},
   "source": [
    "# What is PIP?\n",
    "PIP is a package manager for Python packages, or modules if you like."
   ]
  },
  {
   "cell_type": "markdown",
   "metadata": {},
   "source": [
    "# What is a Package?\n",
    "A package contains all the files you need for a module.\n",
    "\n",
    "Modules are Python code libraries you can include in your project."
   ]
  },
  {
   "cell_type": "markdown",
   "metadata": {},
   "source": [
    "# Check if PIP is Installed\n",
    "Navigate your command line to the location of Python's script directory, and type the following:"
   ]
  },
  {
   "cell_type": "markdown",
   "metadata": {},
   "source": [
    "# Download a Package\n",
    "Downloading a package is very easy.\n",
    "\n",
    "Open the command line interface and tell PIP to download the package you want.\n",
    "\n",
    "Navigate your command line to the location of Python's script directory, and type the following:"
   ]
  },
  {
   "cell_type": "markdown",
   "metadata": {},
   "source": [
    "# Using a Package\n",
    "Once the package is installed, it is ready to use.\n",
    "\n",
    "Import the \"camelcase\" package into your project."
   ]
  },
  {
   "cell_type": "code",
   "execution_count": 3,
   "metadata": {},
   "outputs": [
    {
     "name": "stdout",
     "output_type": "stream",
     "text": [
      "Hello Aleem Malik\n"
     ]
    }
   ],
   "source": [
    "import camelcase\n",
    "c  = camelcase.CamelCase()\n",
    "txt = \"hello aleem malik\"\n",
    "print(c.hump(txt))"
   ]
  },
  {
   "cell_type": "code",
   "execution_count": null,
   "metadata": {},
   "outputs": [],
   "source": []
  }
 ],
 "metadata": {
  "kernelspec": {
   "display_name": "Python 3",
   "language": "python",
   "name": "python3"
  },
  "language_info": {
   "codemirror_mode": {
    "name": "ipython",
    "version": 3
   },
   "file_extension": ".py",
   "mimetype": "text/x-python",
   "name": "python",
   "nbconvert_exporter": "python",
   "pygments_lexer": "ipython3",
   "version": "3.8.5"
  }
 },
 "nbformat": 4,
 "nbformat_minor": 4
}
