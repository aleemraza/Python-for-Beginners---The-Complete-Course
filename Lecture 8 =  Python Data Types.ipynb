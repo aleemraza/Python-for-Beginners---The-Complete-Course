{
 "cells": [
  {
   "cell_type": "markdown",
   "metadata": {},
   "source": [
    "# Python Data Types"
   ]
  },
  {
   "cell_type": "markdown",
   "metadata": {},
   "source": [
    "# Built-in Data Types\n",
    "In programming, data type is an important concept.\n",
    "Variables can store data of different types, and different types can do different things.\n",
    "Python has the following data types built-in by default, in these categories:\n",
    "Text Type:\tstr\n",
    "Numeric Types:\tint, float, complex\n",
    "Sequence Types:\tlist, tuple, range\n",
    "Mapping Type:\tdict\n",
    "Set Types:\tset, frozenset\n",
    "Boolean Type:\tbool\n",
    "Binary Types:\tbytes, bytearray, memoryview"
   ]
  },
  {
   "cell_type": "markdown",
   "metadata": {},
   "source": [
    "# Getting the Data Type\n",
    "You can get the data type of any object by using the type() function:"
   ]
  },
  {
   "cell_type": "code",
   "execution_count": 6,
   "metadata": {},
   "outputs": [
    {
     "name": "stdout",
     "output_type": "stream",
     "text": [
      "<class 'int'>\n",
      "<class 'str'>\n",
      "<class 'float'>\n",
      "<class 'list'>\n",
      "<class 'complex'>\n",
      "<class 'range'>\n",
      "<class 'frozenset'>\n",
      "<class 'bool'>\n",
      "<class 'bytes'>\n",
      "<class 'bytearray'>\n",
      "<class 'memoryview'>\n"
     ]
    }
   ],
   "source": [
    "a = 5\n",
    "b = \"Hello\"\n",
    "c = 3.0\n",
    "d = ['name']\n",
    "e = 1j\n",
    "f = range(6)\n",
    "g = (\"apple\", \"banana\", \"cherry\")\n",
    "h = {\"name\" : \"John\", \"age\" : 36}\n",
    "i = {\"apple\", \"banana\", \"cherry\"}\n",
    "j = frozenset({\"apple\", \"banana\", \"cherry\"})\n",
    "k = True\n",
    "l = b\"Hello\"\n",
    "m = bytearray(5)\n",
    "n = memoryview(bytes(5))\n",
    "print(type(a))\n",
    "print(type(b))\n",
    "print(type(c))\n",
    "print(type(d))\n",
    "print(type(e))\n",
    "print(type(f))\n",
    "print(type(j))\n",
    "print(type(k))\n",
    "print(type(l))\n",
    "print(type(m))\n",
    "print(type(n))"
   ]
  },
  {
   "cell_type": "code",
   "execution_count": null,
   "metadata": {},
   "outputs": [],
   "source": []
  }
 ],
 "metadata": {
  "kernelspec": {
   "display_name": "Python 3",
   "language": "python",
   "name": "python3"
  },
  "language_info": {
   "codemirror_mode": {
    "name": "ipython",
    "version": 3
   },
   "file_extension": ".py",
   "mimetype": "text/x-python",
   "name": "python",
   "nbconvert_exporter": "python",
   "pygments_lexer": "ipython3",
   "version": "3.8.5"
  }
 },
 "nbformat": 4,
 "nbformat_minor": 4
}
