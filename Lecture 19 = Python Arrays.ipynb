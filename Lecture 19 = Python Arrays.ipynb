{
 "cells": [
  {
   "cell_type": "markdown",
   "metadata": {},
   "source": [
    "# Python Arrays"
   ]
  },
  {
   "cell_type": "code",
   "execution_count": null,
   "metadata": {},
   "outputs": [],
   "source": [
    "Arrays are used to store multiple values in one single variable:"
   ]
  },
  {
   "cell_type": "code",
   "execution_count": 1,
   "metadata": {},
   "outputs": [
    {
     "name": "stdout",
     "output_type": "stream",
     "text": [
      "['Honda', 'Zuskie', 'Mehran Car']\n"
     ]
    }
   ],
   "source": [
    "#Create an array containing car names:\n",
    "\n",
    "x =[\"Honda\",\"Zuskie\",\"Mehran Car\"]\n",
    "print(x)"
   ]
  },
  {
   "cell_type": "markdown",
   "metadata": {},
   "source": [
    "# What is an Array?\n",
    "An array is a special variable, which can hold more than one value at a time.\n",
    "\n",
    "If you have a list of items (a list of car names, for example),\n",
    "storing the cars in single variables could look like this:\n",
    "\n",
    "car1 = \"Ford\"\n",
    "car2 = \"Volvo\"\n",
    "car3 = \"BMW\"\n",
    "\n",
    "However, what if you want to loop through the cars and find a specific one?\n",
    "And what if you had not 3 cars, but 300?\n",
    "\n",
    "The solution is an array!\n",
    "An array can hold many values under a single name, \n",
    "and you can access the values by referring to an index number."
   ]
  },
  {
   "cell_type": "markdown",
   "metadata": {},
   "source": [
    "# Access the Elements of an Array\n",
    "You refer to an array element by referring to the index number."
   ]
  },
  {
   "cell_type": "code",
   "execution_count": 3,
   "metadata": {},
   "outputs": [
    {
     "name": "stdout",
     "output_type": "stream",
     "text": [
      "Honda\n",
      "Mehran Car\n"
     ]
    }
   ],
   "source": [
    "x =[\"Honda\",\"Zuskie\",\"Mehran Car\"]\n",
    "print(x[0])\n",
    "print(x[2])"
   ]
  },
  {
   "cell_type": "code",
   "execution_count": null,
   "metadata": {},
   "outputs": [],
   "source": [
    "Modify the value of the first array item:"
   ]
  },
  {
   "cell_type": "code",
   "execution_count": 5,
   "metadata": {},
   "outputs": [
    {
     "name": "stdout",
     "output_type": "stream",
     "text": [
      "['Honda', 'green car', 'Mehran Car']\n"
     ]
    }
   ],
   "source": [
    "x =[\"Honda\",\"Zuskie\",\"Mehran Car\"]\n",
    "x[1] = \"green car\"\n",
    "print(x)"
   ]
  },
  {
   "cell_type": "markdown",
   "metadata": {},
   "source": [
    "# The Length of an Array\n",
    "Use the len() method to return the length of an array (the number of elements in an array)."
   ]
  },
  {
   "cell_type": "code",
   "execution_count": 6,
   "metadata": {},
   "outputs": [
    {
     "name": "stdout",
     "output_type": "stream",
     "text": [
      "3\n"
     ]
    }
   ],
   "source": [
    "x =[\"Honda\",\"Zuskie\",\"Mehran Car\"]\n",
    "print(len(x))"
   ]
  },
  {
   "cell_type": "code",
   "execution_count": null,
   "metadata": {},
   "outputs": [],
   "source": []
  },
  {
   "cell_type": "code",
   "execution_count": null,
   "metadata": {},
   "outputs": [],
   "source": []
  },
  {
   "cell_type": "code",
   "execution_count": null,
   "metadata": {},
   "outputs": [],
   "source": []
  },
  {
   "cell_type": "code",
   "execution_count": null,
   "metadata": {},
   "outputs": [],
   "source": []
  },
  {
   "cell_type": "code",
   "execution_count": null,
   "metadata": {},
   "outputs": [],
   "source": []
  }
 ],
 "metadata": {
  "kernelspec": {
   "display_name": "Python 3",
   "language": "python",
   "name": "python3"
  },
  "language_info": {
   "codemirror_mode": {
    "name": "ipython",
    "version": 3
   },
   "file_extension": ".py",
   "mimetype": "text/x-python",
   "name": "python",
   "nbconvert_exporter": "python",
   "pygments_lexer": "ipython3",
   "version": "3.8.5"
  }
 },
 "nbformat": 4,
 "nbformat_minor": 4
}
