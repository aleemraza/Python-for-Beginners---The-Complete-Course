{
 "cells": [
  {
   "cell_type": "markdown",
   "metadata": {},
   "source": [
    "# Python Operators"
   ]
  },
  {
   "cell_type": "markdown",
   "metadata": {},
   "source": [
    "# Python Operators\n",
    "Operators are used to perform operations on variables and values.\n",
    "In the example below, we use the + operator to add together two values:"
   ]
  },
  {
   "cell_type": "code",
   "execution_count": 2,
   "metadata": {},
   "outputs": [
    {
     "name": "stdout",
     "output_type": "stream",
     "text": [
      "21\n",
      "21\n"
     ]
    }
   ],
   "source": [
    "x = 10\n",
    "y = 11\n",
    "print(x+y)\n",
    "print(10+11)"
   ]
  },
  {
   "cell_type": "markdown",
   "metadata": {},
   "source": [
    "# Python divides the operators in the following groups:\n",
    "\n",
    "Arithmetic operators\n",
    "Assignment operators\n",
    "Comparison operators\n",
    "Logical operators\n",
    "Identity operators\n",
    "Membership operators\n",
    "Bitwise operators"
   ]
  },
  {
   "cell_type": "markdown",
   "metadata": {},
   "source": [
    "# Python Arithmetic Operators\n",
    "Arithmetic operators are used with numeric values to perform common mathematical operations:"
   ]
  },
  {
   "cell_type": "code",
   "execution_count": 9,
   "metadata": {},
   "outputs": [
    {
     "name": "stdout",
     "output_type": "stream",
     "text": [
      "150\n",
      "50\n",
      "5000\n",
      "2.0\n",
      "0\n",
      "10000000000000000000000000000000000000000000000000000000000000000000000000000000000000000000000000000\n",
      "2\n"
     ]
    }
   ],
   "source": [
    "#Addition\n",
    "x = 100\n",
    "y = 50\n",
    "#Addition\n",
    "print(x + y)\n",
    "#Subtraction\n",
    "print(x - y)\n",
    "#Multiplication\n",
    "print(x*y)\n",
    "#Division\n",
    "print(x/y)\n",
    "#Modulus\n",
    "print(x%y)\n",
    "#Exponentiation\n",
    "print(x**y)\n",
    "#Floor division\n",
    "print(x // y)"
   ]
  },
  {
   "cell_type": "markdown",
   "metadata": {},
   "source": [
    "# Python Assignment Operators\n",
    "Assignment operators are used to assign values to variables:"
   ]
  },
  {
   "cell_type": "code",
   "execution_count": 25,
   "metadata": {},
   "outputs": [
    {
     "name": "stdout",
     "output_type": "stream",
     "text": [
      "10\n",
      "13\n",
      "10\n",
      "30\n",
      "10.0\n",
      "1.0\n",
      "0.0\n",
      "0.0\n",
      "2\n",
      "11\n",
      "9\n",
      "1\n",
      "80\n"
     ]
    }
   ],
   "source": [
    "#=\n",
    "x = 10\n",
    "print(x)\n",
    "\n",
    "x = 10\n",
    "x  +=3\n",
    "print(x)\n",
    "\n",
    "x -= 3\n",
    "print(x)\n",
    "\n",
    "x *= 3\n",
    "print(x)\n",
    "\n",
    "x /= 3\n",
    "print(x)\n",
    "\n",
    "x %= 3\n",
    "print(x)\n",
    "\n",
    "x //= 3\n",
    "print(x)  \n",
    "\n",
    "x **= 3\n",
    "print(x)\n",
    "\n",
    "x =10\n",
    "x&= 3\n",
    "print(x)\n",
    "\n",
    "x =10\n",
    "x |= 3\n",
    "print(x)\n",
    "\n",
    "x =10\n",
    "x ^= 3\n",
    "print(x)\n",
    "\n",
    "x =10\n",
    "x >>= 3\n",
    "print(x)\n",
    "\n",
    "x =10\n",
    "x <<= 3\n",
    "print(x)"
   ]
  },
  {
   "cell_type": "markdown",
   "metadata": {},
   "source": [
    "# Python Comparison Operators\n",
    "Comparison operators are used to compare two values:"
   ]
  },
  {
   "cell_type": "markdown",
   "metadata": {},
   "source": [
    "# Equal\n",
    "x = 10\n",
    "y = 5\n",
    "z = x==y\n",
    "print(z)\n",
    "#Not equal\n",
    "x = 10\n",
    "y = 5\n",
    "z = x!=y\n",
    "print(z)\n",
    "#Greater than\n",
    "x = 10\n",
    "y = 5\n",
    "z = x>y\n",
    "print(z)\n",
    "#Less than\n",
    "x = 10\n",
    "y = 5\n",
    "z = x<y\n",
    "print(z)\n",
    "#Greater than or equal to\n",
    "x = 10\n",
    "y = 5\n",
    "z = x >=y\n",
    "print(z)\n",
    "#Less than or equal to\n",
    "x = 10\n",
    "y = 5\n",
    "z = x<=y\n",
    "print(z)"
   ]
  },
  {
   "cell_type": "markdown",
   "metadata": {},
   "source": [
    "# Python Logical Operators\n",
    "Logical operators are used to combine conditional statements:"
   ]
  },
  {
   "cell_type": "code",
   "execution_count": 40,
   "metadata": {},
   "outputs": [
    {
     "name": "stdout",
     "output_type": "stream",
     "text": [
      "True\n",
      "True\n"
     ]
    }
   ],
   "source": [
    "# ...and....  Returns True if both statements are true\n",
    "x = 5\n",
    "\n",
    "print(x > 3 and x < 10)\n",
    "#    or       Returns True if one of the statements is true\n",
    "\n",
    "x  = 5\n",
    "print (x > 3 or x < 4)\n",
    "#   not         Reverse the result, returns False if the result is true"
   ]
  },
  {
   "cell_type": "markdown",
   "metadata": {},
   "source": [
    "# Python Identity Operators\n",
    "Identity operators are used to compare the objects, not if they are equal, but if they are actually the same object, with the same memory location:"
   ]
  },
  {
   "cell_type": "code",
   "execution_count": 41,
   "metadata": {},
   "outputs": [
    {
     "name": "stdout",
     "output_type": "stream",
     "text": [
      "True\n",
      "False\n",
      "True\n"
     ]
    }
   ],
   "source": [
    "x = [\"apple\", \"banana\"]\n",
    "y = [\"apple\", \"banana\"]\n",
    "z = x\n",
    "\n",
    "print(x is z)\n",
    "\n",
    "# returns True because z is the same object as x\n",
    "\n",
    "print(x is y)\n",
    "\n",
    "# returns False because x is not the same object as y, even if they have the same content\n",
    "\n",
    "print(x == y)\n",
    "\n",
    "# to demonstrate the difference betweeen \"is\" and \"==\": this comparison returns True because x is equal to y"
   ]
  },
  {
   "cell_type": "markdown",
   "metadata": {},
   "source": [
    "# Python Bitwise Operators\n",
    "Bitwise operators are used to compare (binary) numbers:"
   ]
  },
  {
   "cell_type": "code",
   "execution_count": null,
   "metadata": {},
   "outputs": [],
   "source": [
    "& #AND\tSets each bit to 1 if both bits are 1\n",
    "|#OR\tSets each bit to 1 if one of two bits is 1\n",
    " #XOR\tSets each bit to 1 if only one of two bits is 1\n",
    "~#NOT\tInverts all the bits\n",
    "<#Zero fill left shift\tShift left by pushing zeros in from the right and let the leftmost bits fall off\n",
    "#Signed right shift\tShift right by pushing copies of the leftmost bit in from the left, and let the rightmost bits fall off"
   ]
  }
 ],
 "metadata": {
  "kernelspec": {
   "display_name": "Python 3",
   "language": "python",
   "name": "python3"
  },
  "language_info": {
   "codemirror_mode": {
    "name": "ipython",
    "version": 3
   },
   "file_extension": ".py",
   "mimetype": "text/x-python",
   "name": "python",
   "nbconvert_exporter": "python",
   "pygments_lexer": "ipython3",
   "version": "3.8.5"
  }
 },
 "nbformat": 4,
 "nbformat_minor": 4
}
